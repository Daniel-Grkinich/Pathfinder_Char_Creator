{
 "cells": [
  {
   "cell_type": "code",
   "execution_count": null,
   "metadata": {},
   "outputs": [],
   "source": []
  },
  {
   "cell_type": "code",
   "execution_count": 2,
   "metadata": {},
   "outputs": [],
   "source": [
    "from fpdf import FPDF\n",
    "\n",
    "pdf = FPDF()\n"
   ]
  },
  {
   "cell_type": "code",
   "execution_count": 5,
   "metadata": {},
   "outputs": [],
   "source": [
    "def text_to_pdf():\n",
    "    # Stats section\n",
    "    from fpdf import FPDF\n",
    "\n",
    "    def draw_shapes():\n",
    "        pdf = FPDF()\n",
    "        pdf.add_page()\n",
    "        \n",
    "        # Draw a title\n",
    "        pdf.set_font(\"Arial\", size=40)\n",
    "        pdf.text(15, 15, \"Ability Scores:\")\n",
    "\n",
    "        # Add text inside the ellipse\n",
    "        pdf.set_font(\"Arial\", size=12)\n",
    "    \n",
    "        \n",
    "        # Draw a rectangle\n",
    "        pdf.set_line_width(1)\n",
    "        pdf.set_fill_color(0, 255, 0)\n",
    "        pdf.rect(20, 20, 35, 60)\n",
    "        \n",
    "        # Add text inside the rectangle\n",
    "        pdf.set_text_color(0, 0, 0)  # Text color (black in this example)\n",
    "        pdf.text(30, 25, \"STR:\")\n",
    "        pdf.text(45, 25, \"10\")\n",
    "        pdf.text(30, 35, \"DEX:\")\n",
    "        pdf.text(45, 35, \"10\")\n",
    "\n",
    "        pdf.text(30, 45, \"CON:\")\n",
    "        pdf.text(45, 45, \"10\")\n",
    "        pdf.text(30, 55, \"WIS:\")\n",
    "        pdf.text(45, 55, \"10\")\n",
    "\n",
    "        pdf.text(30, 65, \"INT:\")\n",
    "        pdf.text(45, 65, \"10\")\n",
    "        pdf.text(30, 75, \"CHA:\")\n",
    "        pdf.text(45, 75, \"10\")\n",
    "\n",
    "\n",
    "        pdf.output('draw_shapes.pdf')\n",
    "\n",
    "    if __name__ == '__main__':\n",
    "        draw_shapes()"
   ]
  },
  {
   "cell_type": "code",
   "execution_count": 6,
   "metadata": {},
   "outputs": [
    {
     "name": "stderr",
     "output_type": "stream",
     "text": [
      "C:\\Users\\Daniel\\AppData\\Local\\Temp\\ipykernel_9492\\268065.py:10: UserWarning: Substituting font arial by core font helvetica\n",
      "  pdf.set_font(\"Arial\", size=40)\n",
      "C:\\Users\\Daniel\\AppData\\Local\\Temp\\ipykernel_9492\\268065.py:14: UserWarning: Substituting font arial by core font helvetica\n",
      "  pdf.set_font(\"Arial\", size=12)\n"
     ]
    }
   ],
   "source": [
    "text_to_pdf()"
   ]
  },
  {
   "cell_type": "code",
   "execution_count": null,
   "metadata": {},
   "outputs": [],
   "source": []
  }
 ],
 "metadata": {
  "kernelspec": {
   "display_name": "Python 3",
   "language": "python",
   "name": "python3"
  },
  "language_info": {
   "codemirror_mode": {
    "name": "ipython",
    "version": 3
   },
   "file_extension": ".py",
   "mimetype": "text/x-python",
   "name": "python",
   "nbconvert_exporter": "python",
   "pygments_lexer": "ipython3",
   "version": "3.10.10"
  },
  "orig_nbformat": 4
 },
 "nbformat": 4,
 "nbformat_minor": 2
}
