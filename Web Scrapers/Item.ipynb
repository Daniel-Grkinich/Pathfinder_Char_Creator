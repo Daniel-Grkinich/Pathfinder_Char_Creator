{
 "cells": [
  {
   "cell_type": "code",
   "execution_count": null,
   "metadata": {},
   "outputs": [],
   "source": [
    "from bs4 import BeautifulSoup\n",
    "from bs4.element import NavigableString, Tag\n",
    "import requests\n",
    "import re\n",
    "\n",
    "url = 'https://www.aonprd.com/'\n",
    "href = 'MagicWondrous.aspx?FinalSlot=Belts'\n",
    "\n",
    "\n",
    "class ArchivesNethysScraper:\n",
    "    def __init__(self, url, href):\n",
    "        self.url = url\n",
    "        self.href = href\n",
    "        self.page = requests.get(url+href)\n",
    "        self.soup = BeautifulSoup(self.page.content, 'html.parser')\n",
    "        self.table = self.soup.find(\"table\")\n",
    "\n",
    "    def table_rows(self):\n",
    "        for tr in self.table.find_all('tr')[1:]:\n",
    "            yield tr\n",
    "\n",
    "    def get_item_info(self, table_row):\n",
    "        output = {}\n",
    "        tag = table_row.td\n",
    "        href = tag.a.attrs['href']\n",
    "        page = requests.get(url+href)\n",
    "        attributes = ['Slot', 'Price', 'Weight']\n",
    "        \n",
    "        def fetch_info(left_tag, right_tag, format_output):\n",
    "            regex = re.compile(\n",
    "                f'{left_tag}(.*){right_tag}'\n",
    "            )\n",
    "            return format_output(regex.findall(page.text)[0])\n",
    "        format_string = lambda str: str.replace('\\r', '').replace(';', '')\n",
    "        for i in range(len(attributes)-1):\n",
    "            l = f'<b>{attributes[i]}</b>'\n",
    "            r = f'<b>{attributes[i+1]}</b>'\n",
    "            output[attributes[i].lower()] = fetch_info(l, r, format_string)\n",
    "        l = r\n",
    "        r = '<h3 class=\"framing\">Description</h3>'\n",
    "        output[attributes[2].lower()] = fetch_info(l, r,format_string)\n",
    "        output['description'] = fetch_info(\n",
    "            '<h3 class=\"framing\">Description</h3>',\n",
    "            '<h3 class=\"framing\">Construction</h3>',\n",
    "            lambda str: str.replace('\\r', '')\n",
    "        )\n",
    "        return output\n",
    "  \n",
    "belts = ArchivesNethysScraper(url, href)\n",
    "for tr in belts.table_rows():\n",
    "    print(belts.get_item_info(tr))\n",
    "\n",
    "# body = ArchivesNethysScraper(url, 'MagicWondrous.aspx?FinalSlot=Body')\n",
    "# for tr in body.table_rows():\n",
    "#    print(body.get_item_info(tr))\n",
    "#    break"
   ]
  }
 ],
 "metadata": {
  "kernelspec": {
   "display_name": "Python 3",
   "language": "python",
   "name": "python3"
  },
  "language_info": {
   "codemirror_mode": {
    "name": "ipython",
    "version": 3
   },
   "file_extension": ".py",
   "mimetype": "text/x-python",
   "name": "python",
   "nbconvert_exporter": "python",
   "pygments_lexer": "ipython3",
   "version": "3.10.10"
  }
 },
 "nbformat": 4,
 "nbformat_minor": 2
}
