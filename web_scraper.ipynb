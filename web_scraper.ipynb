{
 "cells": [
  {
   "cell_type": "code",
   "execution_count": 1,
   "metadata": {},
   "outputs": [
    {
     "name": "stdout",
     "output_type": "stream",
     "text": [
      "{'alignment': \": A cleric's alignment must be within one step of her deity's, along either the law/chaos axis or the good/evil axis (see Additional Rules).<br />\", 'hit die': ': d8.<br />', 'starting wealth': ': 4d6 x 10 gp (average 140 gp).', 'description': 'The Cleric\\'s class skills are Appraise (Int), Craft (Int), Diplomacy (Cha), Heal (Wis), Knowledge (arcana) (Int), Knowledge (history) (Int), Knowledge (nobility) (Int), Knowledge (planes) (Int), Knowledge (religion) (Int), Linguistics (Int), Profession (Wis), Sense Motive (Wis), and Spellcraft (Int).<br /><br /><b>Skill Points at each Level</b>: 2 + Int modifier.<h2 class=\"title\">Class Features</h2><table class=\"inner\"><tr><td colspan=\"6\">&nbsp;</td><td colspan=\"10\"><b>Spells Per Day</b></td></tr><tr><td><b>Level</b></td><td><b>Base Attack Bonus</b></td><td><b>Fort Save</b></td><td><b>Ref Save</b></td><td><b>Will Save</b></td><td><b>Special</b></td><td><b>0</b></td><td><b>1st</b></td><td><b>2nd</b></td><td><b>3rd</b></td><td><b>4th</b></td><td><b>5th</b></td><td><b>6th</b></td><td><b>7th</b></td><td><b>8th</b></td><td><b>9th</b></td></tr><tr><td>1st</td><td>+0</td><td>+2</td><td>+0</td><td>+2</td><td>Aura, channel energy 1d6, domains, orisons</td><td>3</td><td>1+1</td><td>-</td><td>-</td><td>-</td><td>-</td><td>-</td><td>-</td><td>-</td><td>-</td></tr><tr><td>2nd</td><td>+1</td><td>+3</td><td>+0</td><td>+3</td><td>&mdash;</td><td>4</td><td>2+1</td><td>-</td><td>-</td><td>-</td><td>-</td><td>-</td><td>-</td><td>-</td><td>-</td></tr><tr><td>3rd</td><td>+2</td><td>+3</td><td>+1</td><td>+3</td><td>Channel energy 2d6</td><td>4</td><td>2+1</td><td>1+1</td><td>-</td><td>-</td><td>-</td><td>-</td><td>-</td><td>-</td><td>-</td></tr><tr><td>4th</td><td>+3</td><td>+4</td><td>+1</td><td>+4</td><td>&mdash;</td><td>4</td><td>3+1</td><td>2+1</td><td>-</td><td>-</td><td>-</td><td>-</td><td>-</td><td>-</td><td>-</td></tr><tr><td>5th</td><td>+3</td><td>+4</td><td>+1</td><td>+4</td><td>Channel energy 3d6</td><td>4</td><td>3+1</td><td>2+1</td><td>1+1</td><td>-</td><td>-</td><td>-</td><td>-</td><td>-</td><td>-</td></tr><tr><td>6th</td><td>+4</td><td>+5</td><td>+2</td><td>+5</td><td>&mdash;</td><td>4</td><td>3+1</td><td>3+1</td><td>2+1</td><td>-</td><td>-</td><td>-</td><td>-</td><td>-</td><td>-</td></tr><tr><td>7th</td><td>+5</td><td>+5</td><td>+2</td><td>+5</td><td>Channel energy 4d6</td><td>4</td><td>4+1</td><td>3+1</td><td>2+1</td><td>1+1</td><td>-</td><td>-</td><td>-</td><td>-</td><td>-</td></tr><tr><td>8th</td><td>+6/+1</td><td>+6</td><td>+2</td><td>+6</td><td>&mdash;</td><td>4</td><td>4+1</td><td>3+1</td><td>3+1</td><td>2+1</td><td>-</td><td>-</td><td>-</td><td>-</td><td>-</td></tr><tr><td>9th</td><td>+6/+1</td><td>+6</td><td>+3</td><td>+6</td><td>Channel energy 5d6</td><td>4</td><td>4+1</td><td>4+1</td><td>3+1</td><td>2+1</td><td>1+1</td><td>-</td><td>-</td><td>-</td><td>-</td></tr><tr><td>10th</td><td>+7/+2</td><td>+7</td><td>+3</td><td>+7</td><td>&mdash;</td><td>4</td><td>4+1</td><td>4+1</td><td>3+1</td><td>3+1</td><td>2+1</td><td>-</td><td>-</td><td>-</td><td>-</td></tr><tr><td>11th</td><td>+8/+3</td><td>+7</td><td>+3</td><td>+7</td><td>Channel energy 6d6</td><td>4</td><td>4+1</td><td>4+1</td><td>4+1</td><td>3+1</td><td>2+1</td><td>1+1</td><td>-</td><td>-</td><td>-</td></tr><tr><td>12th</td><td>+9/+4</td><td>+8</td><td>+4</td><td>+8</td><td>&mdash;</td><td>4</td><td>4+1</td><td>4+1</td><td>4+1</td><td>3+1</td><td>3+1</td><td>2+1</td><td>-</td><td>-</td><td>-</td></tr><tr><td>13th</td><td>+9/+4</td><td>+8</td><td>+4</td><td>+8</td><td>Channel energy 7d6</td><td>4</td><td>4+1</td><td>4+1</td><td>4+1</td><td>4+1</td><td>3+1</td><td>2+1</td><td>1+1</td><td>-</td><td>-</td></tr><tr><td>14th</td><td>+10/+5</td><td>+9</td><td>+4</td><td>+9</td><td>&mdash;</td><td>4</td><td>4+1</td><td>4+1</td><td>4+1</td><td>4+1</td><td>3+1</td><td>3+1</td><td>2+1</td><td>-</td><td>-</td></tr><tr><td>15th</td><td>+11/+6/+1</td><td>+9</td><td>+5</td><td>+9</td><td>Channel energy 8d6</td><td>4</td><td>4+1</td><td>4+1</td><td>4+1</td><td>4+1</td><td>4+1</td><td>3+1</td><td>2+1</td><td>1+1</td><td>-</td></tr><tr><td>16th</td><td>+12/+7/+2</td><td>+10</td><td>+5</td><td>+10</td><td>&mdash;</td><td>4</td><td>4+1</td><td>4+1</td><td>4+1</td><td>4+1</td><td>4+1</td><td>3+1</td><td>3+1</td><td>2+1</td><td>-</td></tr><tr><td>17th</td><td>+12/+7/+2</td><td>+10</td><td>+5</td><td>+10</td><td>Channel energy 9d6</td><td>4</td><td>4+1</td><td>4+1</td><td>4+1</td><td>4+1</td><td>4+1</td><td>4+1</td><td>3+1</td><td>2+1</td><td>1+1</td></tr><tr><td>18th</td><td>+13/+8/+3</td><td>+11</td><td>+6</td><td>+11</td><td>&mdash;</td><td>4</td><td>4+1</td><td>4+1</td><td>4+1</td><td>4+1</td><td>4+1</td><td>4+1</td><td>3+1</td><td>3+1</td><td>2+1</td></tr><tr><td>19th</td><td>+14/+9/+4</td><td>+11</td><td>+6</td><td>+11</td><td>Channel energy 10d6</td><td>4</td><td>4+1</td><td>4+1</td><td>4+1</td><td>4+1</td><td>4+1</td><td>4+1</td><td>4+1</td><td>3+1</td><td>3+1</td></tr><tr><td>20th</td><td>+15/+10/+5</td><td>+12</td><td>+6</td><td>+12</td><td>&mdash;</td><td>4</td><td>4+1</td><td>4+1</td><td>4+1</td><td>4+1</td><td>4+1</td><td>4+1</td><td>4+1</td><td>4+1</td><td>4+1</td></tr></table><br /><b>Weapon and Armor Proficiency</b>: Clerics are proficient with all simple weapons, light armor, medium armor, and shields (except tower shields). Clerics are also proficient with the favored weapon of their deity.<br /><br /><b>Aura (Ex)</b>: A cleric of a chaotic, evil, good, or lawful deity has a particularly powerful aura corresponding to the deity\\'s alignment (see the <i>detect evil</i> spell for details).<br /><br /><b>Spells</b>: A cleric casts divine spells which are drawn from the <a style=\"text-decoration:underline\" href=\"Spells.aspx?Class=Cleric\">cleric spell list</a> presented in Spell Lists. Her alignment, however, may restrict her from casting certain spells opposed to her moral or ethical beliefs; see chaotic, evil, good, and lawful spells. A cleric must choose and prepare her spells in advance.<br /><br />To prepare or cast a spell, a cleric must have a Wisdom score equal to at least 10 + the spell level. The Difficulty Class for a saving throw against a cleric\\'s spell is 10 + the spell level + the cleric\\'s Wisdom modifier.<br /><br />Like other spellcasters, a cleric can cast only a certain number of spells of each spell level per day. Her base daily spell allotment is given on Table: Cleric. In addition, she receives bonus spells per day if she has a high Wisdom score (see Table: Ability Modifiers and Bonus Spells). <br /><br />Clerics meditate or pray for their spells. Each cleric must choose a time when she must spend 1 hour each day in quiet contemplation or supplication to regain her daily allotment of spells. A cleric may prepare and cast any spell on the cleric spell list, provided that she can cast spells of that level, but she must choose which spells to prepare during her daily meditation.<br /><br /><b>Channel Energy (Su)</b>: Regardless of alignment, any cleric can release a wave of energy by channeling the power of her faith through her holy (or unholy) symbol. This energy can be used to cause or heal damage, depending on the type of energy channeled and the creatures targeted. <br /><br />A good cleric (or one who worships a good deity) channels positive energy and can choose to deal damage to undead creatures or to heal living creatures. An evil cleric (or one who worships an evil deity) channels negative energy and can choose to deal damage to living creatures or to heal undead creatures. A neutral cleric who worships a neutral deity (or one who is not devoted to a particular deity) must choose whether she channels positive or negative energy. Once this choice is made, it cannot be reversed. This decision also determines whether the cleric casts spontaneous cure or inflict spells (see spontaneous casting). <br /><br />Channeling energy causes a burst that affects all creatures of one type (either undead or living) in a 30-foot radius centered on the cleric. The amount of damage dealt or healed is equal to 1d6 points of damage plus 1d6 points of damage for every two cleric levels beyond 1st (2d6 at 3rd, 3d6 at 5th, and so on). Creatures that take damage from channeled energy receive a Will save to halve the damage. The DC of this save is equal to 10 + 1/2 the cleric\\'s level + the cleric\\'s Charisma modifier. Creatures healed by channeled energy cannot exceed their maximum hit point total—all excess healing is lost. A cleric may channel energy a number of times per day equal to 3 + her Charisma modifier. This is a standard action that does not provoke an attack of opportunity. A cleric can choose whether or not to include herself in this effect. A cleric must be able to present her holy symbol to use this ability. <br /><br /><b>Domains</b>: A cleric\\'s deity influences her alignment, what magic she can perform, her values, and how others see her. A cleric chooses two domains from among those belonging to her deity. A cleric can select an alignment domain (Chaos, Evil, Good, or Law) only if her alignment matches that domain. If a cleric is not devoted to a particular deity, she still selects two domains to represent her spiritual inclinations and abilities (subject to GM approval). The restriction on alignment domains still applies.<br /><br />Each domain grants a number of domain powers, dependent upon the level of the cleric, as well as a number of bonus spells. A cleric gains one domain spell slot for each level of cleric spell she can cast, from 1st on up. Each day, a cleric can prepare one of the spells from her two domains in that slot. If a domain spell is not on the cleric spell list, a cleric can prepare it only in her domain spell slot. Domain spells cannot be used to cast spells spontaneously. <br /><br />In addition, a cleric gains the listed powers from both of her domains, if she is of a high enough level. Unless otherwise noted, using a domain power is a standard action.<br /><br />A full list of Cleric Domains can be found <b><a href=\"ClericDomains.aspx\">here</b></a>.<br /><br /><b>Orisons</b>: Clerics can prepare a number of orisons, or 0-level spells, each day, as noted on Table: Cleric under “Spells per Day.” These spells are cast like any other spell, but they are not expended when cast and may be used again.<br /><br /><b>Spontaneous Casting</b>: A good cleric (or a neutral cleric of a good deity) can channel stored spell energy into healing spells that she did not prepare ahead of time. The cleric can “lose” any prepared spell that is not an orison or domain spell in order to cast any cure spell of the same spell level or lower (a cure spell is any spell with “cure” in its name). <br /><br />An evil cleric (or a neutral cleric who worships an evil deity) can\\'t convert prepared spells to cure spells but can convert them to inflict spells (an inflict spell is one with “inflict” in its name).<br /><br />A cleric who is neither good nor evil and whose deity is neither good nor evil can convert spells to either cure spells or inflict spells (player\\'s choice). Once the player makes this choice, it cannot be reversed. This choice also determines whether the cleric channels positive or negative energy (see Channel Energy).<br /><br /><b>Chaotic, Evil, Good, and Lawful Spells</b>: A cleric can\\'t cast spells of an alignment opposed to her own or her deity\\'s (if she has one). Spells associated with particular alignments are indicated by the chaotic, evil, good, and lawful descriptors in their spell descriptions.<br /><br /><b>Bonus Languages</b>: A cleric\\'s bonus language options include Celestial, Abyssal, and Infernal (the languages of good, chaotic evil, and lawful evil outsiders, respectively). These choices are in addition to the bonus languages available to the character because of her race.<h2 class=\"title\">Ex-Clerics</h2>A cleric who grossly violates the code of conduct required by her god loses all spells and class features, except for armor and shield proficiencies and proficiency with simple weapons. She cannot thereafter gain levels as a cleric of that god until she atones for her deeds (see the <i>atonement</i> spell description).'}\n"
     ]
    }
   ],
   "source": [
    "from bs4 import BeautifulSoup\n",
    "from bs4.element import NavigableString, Tag\n",
    "import requests\n",
    "import re\n",
    "\n",
    "url = 'https://www.aonprd.com/'\n",
    "href = 'ClassDisplay.aspx?ItemName=Cleric'\n",
    "\n",
    "\n",
    "class ArchivesNethysScraper:\n",
    "    def __init__(self, url, href):\n",
    "        self.url = url\n",
    "        self.href = href\n",
    "        self.page = requests.get(url+href)\n",
    "        self.soup = BeautifulSoup(self.page.content, 'html.parser')\n",
    "        self.table = self.soup.find(\"table\")\n",
    "        \n",
    "\n",
    "\n",
    "    def table_rows(self):\n",
    "        for b in self.soup.find_all('b')[1:]:\n",
    "            yield b\n",
    "\n",
    "            \n",
    "    def get_class_info(self, table_row):\n",
    "        output = {}\n",
    "        tag = table_row  \n",
    "        page = requests.get(url+href)\n",
    "        attributes = ['Alignment', 'Hit Die', 'Starting Wealth' ]\n",
    "\n",
    "        def fetch_info(left_tag, right_tag, format_output):\n",
    "            regex = re.compile(\n",
    "                f'{left_tag}(.*){right_tag}'\n",
    "            )            \n",
    "            return format_output(regex.findall(page.text)[0])\n",
    "        format_string = lambda str: str.replace('\\r', '').replace(';', '')\n",
    "        for i in range(len(attributes)-1):\n",
    "            l = f'<b>{attributes[i]}</b>'\n",
    "            r = f'<b>{attributes[i+1]}</b>'\n",
    "            output[attributes[i].lower()] = fetch_info(l, r, format_string)\n",
    "        l = r\n",
    "        r = '<h2 class=\"title\">Class Skills</h2>'\n",
    "        output[attributes[2].lower()] = fetch_info(l, r,format_string)\n",
    "        output['description'] = fetch_info(\n",
    "            '<h2 class=\"title\">Class Skills</h2>',\n",
    "            '<h2 class=\"title\">Alternate Capstones</h2>',\n",
    "            #will grab until the second part and make it all one json string\n",
    "            lambda str: str.replace('\\r', '')\n",
    "        )\n",
    "        return output            \n",
    "\n",
    "        # if tag:\n",
    "        #     output['content'] = tag.get_text()\n",
    "\n",
    "        # return output\n",
    "\n",
    "\n",
    "\n",
    "cleric = ArchivesNethysScraper(url, href)\n",
    "i = 0\n",
    "\n",
    "for b in cleric.table_rows():\n",
    "    class_info = cleric.get_class_info(b.string)\n",
    "    print(class_info)     \n",
    "\n",
    "    i += 1\n",
    "\n",
    "    if i == 1:\n",
    "        break\n"
   ]
  },
  {
   "cell_type": "code",
   "execution_count": null,
   "metadata": {},
   "outputs": [],
   "source": []
  }
 ],
 "metadata": {
  "kernelspec": {
   "display_name": "Python 3",
   "language": "python",
   "name": "python3"
  },
  "language_info": {
   "codemirror_mode": {
    "name": "ipython",
    "version": 3
   },
   "file_extension": ".py",
   "mimetype": "text/x-python",
   "name": "python",
   "nbconvert_exporter": "python",
   "pygments_lexer": "ipython3",
   "version": "3.10.10"
  }
 },
 "nbformat": 4,
 "nbformat_minor": 2
}
